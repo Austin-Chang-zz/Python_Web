{
 "cells": [
  {
   "cell_type": "code",
   "execution_count": 25,
   "metadata": {},
   "outputs": [
    {
     "name": "stdout",
     "output_type": "stream",
     "text": [
      "   sales_id sales_name  customer_id order_id  yield_rate  thru_put  \\\n",
      "0   Sales A      Alice  Customer 15  2024-18       98.70   1024.61   \n",
      "1   Sales A      Alice  Customer 15  2024-41       96.35   1022.02   \n",
      "2   Sales A      Alice  Customer 15  2024-18       97.39   1067.76   \n",
      "3   Sales A      Alice  Customer 14  2024-11       99.20    982.10   \n",
      "4   Sales A      Alice  Customer 14  2024-18       99.15   1173.66   \n",
      "..      ...        ...          ...      ...         ...       ...   \n",
      "82  Sales E        Eve  Customer 18  2024-17       97.17   1025.15   \n",
      "83  Sales E        Eve  Customer 18  2024-13       96.53    980.56   \n",
      "84  Sales E        Eve  Customer 14  2024-43       98.96    965.73   \n",
      "85  Sales E        Eve  Customer 14  2024-08       96.43   1132.41   \n",
      "86  Sales E        Eve  Customer 14  2024-32       96.64   1154.92   \n",
      "\n",
      "    order_date deliver_date  factory  \n",
      "0   2024-04-21   2024-06-09  Vietnam  \n",
      "1   2024-09-19   2024-11-06  Vietnam  \n",
      "2   2024-04-21   2024-06-09  Vietnam  \n",
      "3   2024-02-29   2024-04-19  Vietnam  \n",
      "4   2024-04-21   2024-06-09  Vietnam  \n",
      "..         ...          ...      ...  \n",
      "82  2024-04-04   2024-06-02    China  \n",
      "83  2024-03-17   2024-05-02    China  \n",
      "84  2024-10-02   2024-11-29    China  \n",
      "85  2024-02-03   2024-03-18    China  \n",
      "86  2024-07-16   2024-09-13    China  \n",
      "\n",
      "[87 rows x 9 columns]\n"
     ]
    }
   ],
   "source": [
    "import pandas as pd\n",
    "\n",
    "# Use the raw file link\n",
    "raw_url = 'https://raw.githubusercontent.com/Austin-Chang-zz/Python_Web/main/HomeWork/sales_orders.csv'\n",
    "\n",
    "# Load the CSV file\n",
    "df = pd.read_csv(raw_url)\n",
    "\n",
    "# Display the DataFrame\n",
    "print(df)\n"
   ]
  },
  {
   "cell_type": "code",
   "execution_count": 26,
   "metadata": {},
   "outputs": [
    {
     "data": {
      "text/plain": [
       "array(['Customer 15', 'Customer 14', 'Customer 1', 'Customer 10',\n",
       "       'Customer 20', 'Customer 13', 'Customer 19', 'Customer 11',\n",
       "       'Customer 8', 'Customer 6', 'Customer 16', 'Customer 4',\n",
       "       'Customer 7', 'Customer 3', 'Customer 17', 'Customer 5',\n",
       "       'Customer 18'], dtype=object)"
      ]
     },
     "execution_count": 26,
     "metadata": {},
     "output_type": "execute_result"
    }
   ],
   "source": [
    "df.customer_id.unique()"
   ]
  },
  {
   "cell_type": "code",
   "execution_count": 28,
   "metadata": {},
   "outputs": [
    {
     "data": {
      "text/html": [
       "<div>\n",
       "<style scoped>\n",
       "    .dataframe tbody tr th:only-of-type {\n",
       "        vertical-align: middle;\n",
       "    }\n",
       "\n",
       "    .dataframe tbody tr th {\n",
       "        vertical-align: top;\n",
       "    }\n",
       "\n",
       "    .dataframe thead th {\n",
       "        text-align: right;\n",
       "    }\n",
       "</style>\n",
       "<table border=\"1\" class=\"dataframe\">\n",
       "  <thead>\n",
       "    <tr style=\"text-align: right;\">\n",
       "      <th></th>\n",
       "      <th>sales_id</th>\n",
       "      <th>sales_name</th>\n",
       "      <th>customer_id</th>\n",
       "      <th>order_id</th>\n",
       "      <th>yield_rate</th>\n",
       "      <th>thru_put</th>\n",
       "      <th>order_date</th>\n",
       "      <th>deliver_date</th>\n",
       "      <th>factory</th>\n",
       "    </tr>\n",
       "  </thead>\n",
       "  <tbody>\n",
       "  </tbody>\n",
       "</table>\n",
       "</div>"
      ],
      "text/plain": [
       "Empty DataFrame\n",
       "Columns: [sales_id, sales_name, customer_id, order_id, yield_rate, thru_put, order_date, deliver_date, factory]\n",
       "Index: []"
      ]
     },
     "metadata": {},
     "output_type": "display_data"
    },
    {
     "data": {
      "text/html": [
       "<div>\n",
       "<style scoped>\n",
       "    .dataframe tbody tr th:only-of-type {\n",
       "        vertical-align: middle;\n",
       "    }\n",
       "\n",
       "    .dataframe tbody tr th {\n",
       "        vertical-align: top;\n",
       "    }\n",
       "\n",
       "    .dataframe thead th {\n",
       "        text-align: right;\n",
       "    }\n",
       "</style>\n",
       "<table border=\"1\" class=\"dataframe\">\n",
       "  <thead>\n",
       "    <tr style=\"text-align: right;\">\n",
       "      <th></th>\n",
       "      <th>customer_id</th>\n",
       "      <th>order_id</th>\n",
       "      <th>yield_rate</th>\n",
       "    </tr>\n",
       "  </thead>\n",
       "  <tbody>\n",
       "  </tbody>\n",
       "</table>\n",
       "</div>"
      ],
      "text/plain": [
       "Empty DataFrame\n",
       "Columns: [customer_id, order_id, yield_rate]\n",
       "Index: []"
      ]
     },
     "metadata": {},
     "output_type": "display_data"
    }
   ],
   "source": [
    "# Filter for 'customer 14'\n",
    "dff1 = df[df['customer_id'] == 'customer 14']  # Use bracket notation for column access\n",
    "display(dff1)\n",
    "\n",
    "# Select specific columns\n",
    "yld_diff = dff1[['customer_id','order_id', 'yield_rate']]\n",
    "display(yld_diff)\n",
    "\n",
    "# # Convert to dictionary\n",
    "# result_dict = yld_diff.to_dict('records')\n",
    "# print(result_dict)\n"
   ]
  },
  {
   "cell_type": "code",
   "execution_count": 15,
   "metadata": {},
   "outputs": [
    {
     "ename": "AttributeError",
     "evalue": "'DataFrame' object has no attribute 'customer_id'",
     "output_type": "error",
     "traceback": [
      "\u001b[1;31m---------------------------------------------------------------------------\u001b[0m",
      "\u001b[1;31mAttributeError\u001b[0m                            Traceback (most recent call last)",
      "Cell \u001b[1;32mIn[15], line 1\u001b[0m\n\u001b[1;32m----> 1\u001b[0m dff1 \u001b[38;5;241m=\u001b[39m df[\u001b[43mdf\u001b[49m\u001b[38;5;241;43m.\u001b[39;49m\u001b[43mcustomer_id\u001b[49m \u001b[38;5;241m==\u001b[39m \u001b[38;5;124m'\u001b[39m\u001b[38;5;124mcustomer 14\u001b[39m\u001b[38;5;124m'\u001b[39m]\n\u001b[0;32m      2\u001b[0m display(dff1)\n\u001b[0;32m      3\u001b[0m yld_diff \u001b[38;5;241m=\u001b[39m dff1[[\u001b[38;5;124m'\u001b[39m\u001b[38;5;124mcustomer_id\u001b[39m\u001b[38;5;124m'\u001b[39m, \u001b[38;5;124m'\u001b[39m\u001b[38;5;124myield_rate\u001b[39m\u001b[38;5;124m'\u001b[39m, \u001b[38;5;124m'\u001b[39m\u001b[38;5;124mthru_put\u001b[39m\u001b[38;5;124m'\u001b[39m]]\n",
      "File \u001b[1;32mc:\\Users\\teyin\\miniconda3\\envs\\tvdi\\Lib\\site-packages\\pandas\\core\\generic.py:6299\u001b[0m, in \u001b[0;36mNDFrame.__getattr__\u001b[1;34m(self, name)\u001b[0m\n\u001b[0;32m   6292\u001b[0m \u001b[38;5;28;01mif\u001b[39;00m (\n\u001b[0;32m   6293\u001b[0m     name \u001b[38;5;129;01mnot\u001b[39;00m \u001b[38;5;129;01min\u001b[39;00m \u001b[38;5;28mself\u001b[39m\u001b[38;5;241m.\u001b[39m_internal_names_set\n\u001b[0;32m   6294\u001b[0m     \u001b[38;5;129;01mand\u001b[39;00m name \u001b[38;5;129;01mnot\u001b[39;00m \u001b[38;5;129;01min\u001b[39;00m \u001b[38;5;28mself\u001b[39m\u001b[38;5;241m.\u001b[39m_metadata\n\u001b[0;32m   6295\u001b[0m     \u001b[38;5;129;01mand\u001b[39;00m name \u001b[38;5;129;01mnot\u001b[39;00m \u001b[38;5;129;01min\u001b[39;00m \u001b[38;5;28mself\u001b[39m\u001b[38;5;241m.\u001b[39m_accessors\n\u001b[0;32m   6296\u001b[0m     \u001b[38;5;129;01mand\u001b[39;00m \u001b[38;5;28mself\u001b[39m\u001b[38;5;241m.\u001b[39m_info_axis\u001b[38;5;241m.\u001b[39m_can_hold_identifiers_and_holds_name(name)\n\u001b[0;32m   6297\u001b[0m ):\n\u001b[0;32m   6298\u001b[0m     \u001b[38;5;28;01mreturn\u001b[39;00m \u001b[38;5;28mself\u001b[39m[name]\n\u001b[1;32m-> 6299\u001b[0m \u001b[38;5;28;01mreturn\u001b[39;00m \u001b[38;5;28;43mobject\u001b[39;49m\u001b[38;5;241;43m.\u001b[39;49m\u001b[38;5;21;43m__getattribute__\u001b[39;49m\u001b[43m(\u001b[49m\u001b[38;5;28;43mself\u001b[39;49m\u001b[43m,\u001b[49m\u001b[43m \u001b[49m\u001b[43mname\u001b[49m\u001b[43m)\u001b[49m\n",
      "\u001b[1;31mAttributeError\u001b[0m: 'DataFrame' object has no attribute 'customer_id'"
     ]
    }
   ],
   "source": [
    "dff1 = df[df.customer_id == 'customer 14']\n",
    "display(dff1)\n",
    "yld_diff = dff1[['customer_id', 'yield_rate', 'thru_put']]\n",
    "display(yld_diff)\n",
    "yld_diff.to_dict('records')"
   ]
  },
  {
   "cell_type": "markdown",
   "metadata": {},
   "source": []
  }
 ],
 "metadata": {
  "kernelspec": {
   "display_name": "tvdi",
   "language": "python",
   "name": "python3"
  },
  "language_info": {
   "codemirror_mode": {
    "name": "ipython",
    "version": 3
   },
   "file_extension": ".py",
   "mimetype": "text/x-python",
   "name": "python",
   "nbconvert_exporter": "python",
   "pygments_lexer": "ipython3",
   "version": "3.11.10"
  }
 },
 "nbformat": 4,
 "nbformat_minor": 2
}
